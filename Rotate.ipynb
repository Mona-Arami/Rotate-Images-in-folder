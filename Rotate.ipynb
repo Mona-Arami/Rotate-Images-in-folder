{
 "cells": [
  {
   "cell_type": "code",
   "execution_count": null,
   "metadata": {},
   "outputs": [],
   "source": [
    "from PIL import Image\n",
    "import os\n",
    "\n",
    "for current_directory, sub_directory_names, file_names in os.walk(\"./images\"):\n",
    "    for name in file_names:\n",
    "        if name.endswith(\".jpg\"):\n",
    "            image_path = os.path.join(current_directory, name)\n",
    "            image = Image.open(image_path)\n",
    "            # image_out = image.transpose(Image.ROTATE_90)\n",
    "            image_out = image.rotate(90)\n",
    "            image_out.save(image_path)"
   ]
  }
 ],
 "metadata": {
  "kernelspec": {
   "display_name": "Python 3",
   "language": "python",
   "name": "python3"
  },
  "language_info": {
   "codemirror_mode": {
    "name": "ipython",
    "version": 3
   },
   "file_extension": ".py",
   "mimetype": "text/x-python",
   "name": "python",
   "nbconvert_exporter": "python",
   "pygments_lexer": "ipython3",
   "version": "3.7.3"
  }
 },
 "nbformat": 4,
 "nbformat_minor": 2
}
